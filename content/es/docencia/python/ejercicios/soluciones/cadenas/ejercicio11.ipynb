{
  "cells": [
    {
      "cell_type": "markdown",
      "metadata": {
        "id": "HVmKvRu9fFdU"
      },
      "source": [
        "## Ejercicio\n",
        "\n",
        "Escribir un programa que pregunte el nombre el un producto, su precio y un número de unidades y muestre por pantalla una cadena con el siguiente formato:\n",
        "\n",
        "`<producto>: <unidades> unidades x <precio>€ = <total>€`\n",
        "\n",
        "donde `<unidades>` es el número de unidades con cinco dígitos, `<precio>` es el precio unitario con 6 dígitos enteros y 2 decimales y `<total>` es el coste total con 8 dígitos enteros y 2 decimales."
      ]
    },
    {
      "cell_type": "markdown",
      "metadata": {
        "id": "rQqQ4wdgfFdV"
      },
      "source": [
        "## Solución"
      ]
    },
    {
      "cell_type": "code",
      "execution_count": null,
      "metadata": {
        "id": "16-8pAiEfFdW",
        "outputId": "74e77ab6-c1db-4b1c-8f38-cf72ddf2c79c"
      },
      "outputs": [
        {
          "output_type": "stream",
          "name": "stdout",
          "text": [
            "Teléfono Acme: 200 unidades x    630.25€ =   126050.00€\n"
          ]
        }
      ],
      "source": [
        "producto = input('Introduce el nombre del producto: ')\n",
        "precio = float(input('Introducde el precio unitario: '))\n",
        "unidades = int(input('Introduce el número de unidades: '))\n",
        "print('{producto}: {unidades:3d} unidades x {precio:09.2f}€ = {total:011.2f}€'.format(producto = producto, unidades = unidades, precio = precio, total = unidades * precio))"
      ]
    },
    {
      "cell_type": "code",
      "execution_count": null,
      "metadata": {
        "id": "jbe9i0B-fFdX"
      },
      "outputs": [],
      "source": []
    }
  ],
  "metadata": {
    "kernelspec": {
      "display_name": "Python 3",
      "language": "python",
      "name": "python3"
    },
    "language_info": {
      "codemirror_mode": {
        "name": "ipython",
        "version": 3
      },
      "file_extension": ".py",
      "mimetype": "text/x-python",
      "name": "python",
      "nbconvert_exporter": "python",
      "pygments_lexer": "ipython3",
      "version": "3.9.1-final"
    },
    "colab": {
      "provenance": []
    }
  },
  "nbformat": 4,
  "nbformat_minor": 0
}